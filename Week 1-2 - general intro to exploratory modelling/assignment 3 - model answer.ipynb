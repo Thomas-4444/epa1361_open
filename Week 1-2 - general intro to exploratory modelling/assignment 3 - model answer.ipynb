{
 "cells": [
  {
   "cell_type": "markdown",
   "metadata": {},
   "source": [
    "# EPA1361 - Model-Based Decision Making\n",
    "\n",
    "## Multi-model analysis\n",
    "\n",
    "This exercise uses a simple version of the [Lotka-Volterra predator-prey equations](https://en.wikipedia.org/wiki/Lotka%E2%80%93Volterra_equations) to show how the EMA Workbench can be used for a\n",
    "multi-model analysis, in addition to typical parametric/structural uncertainties. This will let you test the connectors provided in the Workbench for Excel, NetLogo, and Vensim / PySD; we'll also use the models for the sensitivity analysis exercise in week 3.\n",
    "\n",
    "**Assignment**\n",
    "Using the three model files provided and the Python function below, define model objects for each implementation (Excel, NetLogo, Vensim/PySD, and Python), and test them using a single ensemble. Use 50 experiments sampled from the parameters below (so that each experiment will be executed for the 4 models, for a total of 200), and retrieve outputs for the _TIME_, _predators_, and _prey_ variables.\n",
    "   * Excel and Vensim are only supported on Windows\n",
    "   * Vensim requires the DSS version of Vensim\n",
    "   * Netlogo supoprt depends on [jpype](http://jpype.readthedocs.io/en/latest/install.html) and [pynetlogo](https://pynetlogo.readthedocs.io/en/latest/). Also, if you don't have NetLogo installed, please get it from [NetLogo 6.1.1](https://ccl.northwestern.edu/netlogo/download.shtml)\n",
    "   * for pysd, see [its documentation](http://pysd.readthedocs.io/en/master/installation.html)\n",
    "   * If possible try to work with all model versions, but even 2 or 3 (pure python and something else should be sufficient).\n",
    "    \n",
    "\n",
    "|Parameter\t|Range or value\t        |\n",
    "|-----------|--------------:|\n",
    "|prey_birth_rate    \t|0.015 – 0.035\t|\n",
    "|predation_rate|0.0005 – 0.003 \t|\n",
    "|predator_efficiency     \t|0.001 – 0.004\t    |\n",
    "|predator_loss_rate\t    |0.04 – 0.08\t    |\n",
    "|Final time\t    |365\t    |\n",
    "|dt\t    |0.25\t    |\n",
    "\n",
    "* Note that your EMA Workbench installation includes [example scripts](https://github.com/quaquel/EMAworkbench/tree/master/ema_workbench/examples) for the different connectors. The different model objects follow a similar syntax but will need to be slightly adjusted depending on the software (e.g. to specify the NetLogo run length or the sheet name in Excel).\n",
    "  * This [tutorial](https://emaworkbench.readthedocs.io/en/latest/basic_tutorial.html) also shows a simple model in Python, Vensim and Excel connected to the workbench.\n",
    "\n",
    "* These model objects can be used with a replication functionality (for instance to test the effect of stochastic uncertainty in a NetLogo model), which repeats a given experiment over multiple replications. You can use a single replication in this exercise as the models are not stochastic. By default, each outcome array will then have a shape of (# experiments, # replications, # time steps). Try adapting the outcome arrays so that they can be used with the _lines_ plotting function of the Workbench, and plot the results grouped by model.\n",
    "\n",
    "* To check the graphical results, find the maximum absolute error of the time series you obtained for the _prey_ variable in the Excel, NetLogo, and Vensim/PySD models, relative to the Python function. "
   ]
  },
  {
   "cell_type": "code",
   "execution_count": 1,
   "metadata": {
    "ExecuteTime": {
     "end_time": "2023-04-07T13:54:51.752186Z",
     "start_time": "2023-04-07T13:54:49.939856Z"
    },
    "collapsed": false,
    "jupyter": {
     "outputs_hidden": false
    }
   },
   "outputs": [
    {
     "name": "stderr",
     "output_type": "stream",
     "text": [
      "C:\\Users\\thoma\\Anaconda3\\envs\\model_based_decision_making\\Lib\\site-packages\\ema_workbench\\connectors\\__init__.py:19: ImportWarning: vensim connector not available\n",
      "  warnings.warn(\"vensim connector not available\", ImportWarning)\n",
      "C:\\Users\\thoma\\Anaconda3\\envs\\model_based_decision_making\\Lib\\site-packages\\ema_workbench\\connectors\\__init__.py:34: ImportWarning: simio connector not available\n",
      "  warnings.warn(\"simio connector not available\", ImportWarning)\n"
     ]
    }
   ],
   "source": [
    "# Some imports you may need\n",
    "import numpy as np\n",
    "import matplotlib.pyplot as plt\n",
    "\n",
    "from ema_workbench import (Model, RealParameter, TimeSeriesOutcome, perform_experiments, ema_logging)\n",
    "\n",
    "from ema_workbench.connectors.netlogo import NetLogoModel\n",
    "from ema_workbench.connectors.excel import ExcelModel\n",
    "from ema_workbench.connectors.pysd_connector import PysdModel\n",
    "\n",
    "from ema_workbench import Samplers\n",
    "\n",
    "from ema_workbench.analysis.plotting import lines, Density"
   ]
  },
  {
   "cell_type": "markdown",
   "metadata": {},
   "source": [
    "the code given above returs a 2D array of shape (reps, timesteps) WAAR RETURNED EN WAT ZORGT VOOR DIE RETURN?. This means that the outcomes over a series of experiments will become 3D (n_experiments, n_reps, timesteps). Since replication is 1 in this case, we want to get rid of the middle dimension. There are various ways to do this. The easiest given the code above is to use a function as an optional keyword argument on the outcome class to do this. The ```np.squeeze``` function does exactly this. WAAR WORDT DIT GEBRUIKT?\n",
    "\n",
    "A more elegant solution would be to remove reps as an argument in the above code and use SingleReplicationNetLogoModel. REPS STAAT BOVEN NERGENS ALS ARUGMENT......"
   ]
  },
  {
   "cell_type": "code",
   "execution_count": 2,
   "metadata": {
    "ExecuteTime": {
     "end_time": "2023-04-07T13:54:51.756796Z",
     "start_time": "2023-04-07T13:54:51.752186Z"
    },
    "collapsed": false,
    "jupyter": {
     "outputs_hidden": false
    }
   },
   "outputs": [],
   "source": [
    "# Import the Python function\n",
    "from model.pred_prey import PredPrey"
   ]
  },
  {
   "cell_type": "code",
   "execution_count": 3,
   "metadata": {
    "ExecuteTime": {
     "end_time": "2023-04-07T13:54:51.759511Z",
     "start_time": "2023-04-07T13:54:51.756796Z"
    },
    "collapsed": false,
    "jupyter": {
     "outputs_hidden": false
    }
   },
   "outputs": [],
   "source": [
    "# Add as a system variable #WAT GEBEURT HIER EN HOE?\n",
    "import os\n",
    "os.environ[\"JAVA_HOME\"] = 'C:/Program Files/NetLogo 6.3.0/runtime/bin/server/'"
   ]
  },
  {
   "cell_type": "code",
   "execution_count": 4,
   "metadata": {
    "ExecuteTime": {
     "end_time": "2023-04-07T13:55:42.948839Z",
     "start_time": "2023-04-07T13:54:51.759511Z"
    },
    "collapsed": false,
    "jupyter": {
     "outputs_hidden": false
    }
   },
   "outputs": [
    {
     "name": "stderr",
     "output_type": "stream",
     "text": [
      "[MainProcess/INFO] performing 50 scenarios * 1 policies * 4 model(s) = 200 experiments\n",
      "  0%|                                                  | 0/200 [00:00<?, ?it/s][MainProcess/INFO] performing experiments sequentially\n",
      " 20%|███████▊                                | 39/200 [00:00<00:00, 190.90it/s][MainProcess/ERROR] No JVM shared library file (jvm.dll) found. Try setting up the JAVA_HOME environment variable properly.\n",
      "Traceback (most recent call last):\n",
      "  File \"C:\\Users\\thoma\\Anaconda3\\envs\\model_based_decision_making\\Lib\\site-packages\\ema_workbench\\em_framework\\experiment_runner.py\", line 91, in run_experiment\n",
      "    model.run_model(scenario, policy)\n",
      "  File \"C:\\Users\\thoma\\Anaconda3\\envs\\model_based_decision_making\\Lib\\site-packages\\ema_workbench\\util\\ema_logging.py\", line 152, in wrapper\n",
      "    res = func(*args, **kwargs)\n",
      "          ^^^^^^^^^^^^^^^^^^^^^\n",
      "  File \"C:\\Users\\thoma\\Anaconda3\\envs\\model_based_decision_making\\Lib\\site-packages\\ema_workbench\\em_framework\\model.py\", line 299, in run_model\n",
      "    super().run_model(scenario, policy)\n",
      "  File \"C:\\Users\\thoma\\Anaconda3\\envs\\model_based_decision_making\\Lib\\site-packages\\ema_workbench\\util\\ema_logging.py\", line 152, in wrapper\n",
      "    res = func(*args, **kwargs)\n",
      "          ^^^^^^^^^^^^^^^^^^^^^\n",
      "  File \"C:\\Users\\thoma\\Anaconda3\\envs\\model_based_decision_making\\Lib\\site-packages\\ema_workbench\\em_framework\\model.py\", line 181, in run_model\n",
      "    self.model_init(policy)\n",
      "  File \"C:\\Users\\thoma\\Anaconda3\\envs\\model_based_decision_making\\Lib\\site-packages\\ema_workbench\\util\\ema_logging.py\", line 152, in wrapper\n",
      "    res = func(*args, **kwargs)\n",
      "          ^^^^^^^^^^^^^^^^^^^^^\n",
      "  File \"C:\\Users\\thoma\\Anaconda3\\envs\\model_based_decision_making\\Lib\\site-packages\\ema_workbench\\connectors\\netlogo.py\", line 134, in model_init\n",
      "    self.netlogo = pynetlogo.NetLogoLink(\n",
      "                   ^^^^^^^^^^^^^^^^^^^^^^\n",
      "  File \"C:\\Users\\thoma\\Anaconda3\\envs\\model_based_decision_making\\Lib\\site-packages\\pynetlogo\\core.py\", line 188, in __init__\n",
      "    jvm_path = jpype.getDefaultJVMPath()\n",
      "               ^^^^^^^^^^^^^^^^^^^^^^^^^\n",
      "  File \"C:\\Users\\thoma\\Anaconda3\\envs\\model_based_decision_making\\Lib\\site-packages\\jpype\\_jvmfinder.py\", line 74, in getDefaultJVMPath\n",
      "    return finder.get_jvm_path()\n",
      "           ^^^^^^^^^^^^^^^^^^^^^\n",
      "  File \"C:\\Users\\thoma\\Anaconda3\\envs\\model_based_decision_making\\Lib\\site-packages\\jpype\\_jvmfinder.py\", line 212, in get_jvm_path\n",
      "    raise JVMNotFoundException(\"No JVM shared library file ({0}) \"\n",
      "jpype._jvmfinder.JVMNotFoundException: No JVM shared library file (jvm.dll) found. Try setting up the JAVA_HOME environment variable properly.\n"
     ]
    },
    {
     "ename": "EMAError",
     "evalue": "exception in run_model\nCaused by: JVMNotFoundException: No JVM shared library file (jvm.dll) found. Try setting up the JAVA_HOME environment variable properly.",
     "output_type": "error",
     "traceback": [
      "\u001b[1;31m---------------------------------------------------------------------------\u001b[0m",
      "\u001b[1;31mJVMNotFoundException\u001b[0m                      Traceback (most recent call last)",
      "File \u001b[1;32m~\\Anaconda3\\envs\\model_based_decision_making\\Lib\\site-packages\\ema_workbench\\em_framework\\experiment_runner.py:91\u001b[0m, in \u001b[0;36mExperimentRunner.run_experiment\u001b[1;34m(self, experiment)\u001b[0m\n\u001b[0;32m     90\u001b[0m \u001b[38;5;28;01mtry\u001b[39;00m:\n\u001b[1;32m---> 91\u001b[0m     \u001b[43mmodel\u001b[49m\u001b[38;5;241;43m.\u001b[39;49m\u001b[43mrun_model\u001b[49m\u001b[43m(\u001b[49m\u001b[43mscenario\u001b[49m\u001b[43m,\u001b[49m\u001b[43m \u001b[49m\u001b[43mpolicy\u001b[49m\u001b[43m)\u001b[49m\n\u001b[0;32m     92\u001b[0m \u001b[38;5;28;01mexcept\u001b[39;00m CaseError \u001b[38;5;28;01mas\u001b[39;00m e:\n",
      "File \u001b[1;32m~\\Anaconda3\\envs\\model_based_decision_making\\Lib\\site-packages\\ema_workbench\\util\\ema_logging.py:152\u001b[0m, in \u001b[0;36mmethod_logger.<locals>.real_decorator.<locals>.wrapper\u001b[1;34m(*args, **kwargs)\u001b[0m\n\u001b[0;32m    151\u001b[0m logger\u001b[38;5;241m.\u001b[39mdebug(\u001b[38;5;124mf\u001b[39m\u001b[38;5;124m\"\u001b[39m\u001b[38;5;124mcalling \u001b[39m\u001b[38;5;132;01m{\u001b[39;00mfunc\u001b[38;5;241m.\u001b[39m\u001b[38;5;18m__name__\u001b[39m\u001b[38;5;132;01m}\u001b[39;00m\u001b[38;5;124m on \u001b[39m\u001b[38;5;132;01m{\u001b[39;00mclassname\u001b[38;5;132;01m}\u001b[39;00m\u001b[38;5;124m\"\u001b[39m)\n\u001b[1;32m--> 152\u001b[0m res \u001b[38;5;241m=\u001b[39m \u001b[43mfunc\u001b[49m\u001b[43m(\u001b[49m\u001b[38;5;241;43m*\u001b[39;49m\u001b[43margs\u001b[49m\u001b[43m,\u001b[49m\u001b[43m \u001b[49m\u001b[38;5;241;43m*\u001b[39;49m\u001b[38;5;241;43m*\u001b[39;49m\u001b[43mkwargs\u001b[49m\u001b[43m)\u001b[49m\n\u001b[0;32m    153\u001b[0m logger\u001b[38;5;241m.\u001b[39mdebug(\u001b[38;5;124mf\u001b[39m\u001b[38;5;124m\"\u001b[39m\u001b[38;5;124mcompleted calling \u001b[39m\u001b[38;5;132;01m{\u001b[39;00mfunc\u001b[38;5;241m.\u001b[39m\u001b[38;5;18m__name__\u001b[39m\u001b[38;5;132;01m}\u001b[39;00m\u001b[38;5;124m on \u001b[39m\u001b[38;5;132;01m{\u001b[39;00mclassname\u001b[38;5;132;01m}\u001b[39;00m\u001b[38;5;124m\"\u001b[39m)\n",
      "File \u001b[1;32m~\\Anaconda3\\envs\\model_based_decision_making\\Lib\\site-packages\\ema_workbench\\em_framework\\model.py:299\u001b[0m, in \u001b[0;36mReplicator.run_model\u001b[1;34m(self, scenario, policy)\u001b[0m\n\u001b[0;32m    291\u001b[0m \u001b[38;5;250m\u001b[39m\u001b[38;5;124;03m\"\"\"Method for running an instantiated model structure.\u001b[39;00m\n\u001b[0;32m    292\u001b[0m \n\u001b[0;32m    293\u001b[0m \u001b[38;5;124;03mParameters\u001b[39;00m\n\u001b[1;32m   (...)\u001b[0m\n\u001b[0;32m    297\u001b[0m \n\u001b[0;32m    298\u001b[0m \u001b[38;5;124;03m\"\"\"\u001b[39;00m\n\u001b[1;32m--> 299\u001b[0m \u001b[38;5;28;43msuper\u001b[39;49m\u001b[43m(\u001b[49m\u001b[43m)\u001b[49m\u001b[38;5;241;43m.\u001b[39;49m\u001b[43mrun_model\u001b[49m\u001b[43m(\u001b[49m\u001b[43mscenario\u001b[49m\u001b[43m,\u001b[49m\u001b[43m \u001b[49m\u001b[43mpolicy\u001b[49m\u001b[43m)\u001b[49m\n\u001b[0;32m    301\u001b[0m constants \u001b[38;5;241m=\u001b[39m {c\u001b[38;5;241m.\u001b[39mname: c\u001b[38;5;241m.\u001b[39mvalue \u001b[38;5;28;01mfor\u001b[39;00m c \u001b[38;5;129;01min\u001b[39;00m \u001b[38;5;28mself\u001b[39m\u001b[38;5;241m.\u001b[39mconstants}\n",
      "File \u001b[1;32m~\\Anaconda3\\envs\\model_based_decision_making\\Lib\\site-packages\\ema_workbench\\util\\ema_logging.py:152\u001b[0m, in \u001b[0;36mmethod_logger.<locals>.real_decorator.<locals>.wrapper\u001b[1;34m(*args, **kwargs)\u001b[0m\n\u001b[0;32m    151\u001b[0m logger\u001b[38;5;241m.\u001b[39mdebug(\u001b[38;5;124mf\u001b[39m\u001b[38;5;124m\"\u001b[39m\u001b[38;5;124mcalling \u001b[39m\u001b[38;5;132;01m{\u001b[39;00mfunc\u001b[38;5;241m.\u001b[39m\u001b[38;5;18m__name__\u001b[39m\u001b[38;5;132;01m}\u001b[39;00m\u001b[38;5;124m on \u001b[39m\u001b[38;5;132;01m{\u001b[39;00mclassname\u001b[38;5;132;01m}\u001b[39;00m\u001b[38;5;124m\"\u001b[39m)\n\u001b[1;32m--> 152\u001b[0m res \u001b[38;5;241m=\u001b[39m \u001b[43mfunc\u001b[49m\u001b[43m(\u001b[49m\u001b[38;5;241;43m*\u001b[39;49m\u001b[43margs\u001b[49m\u001b[43m,\u001b[49m\u001b[43m \u001b[49m\u001b[38;5;241;43m*\u001b[39;49m\u001b[38;5;241;43m*\u001b[39;49m\u001b[43mkwargs\u001b[49m\u001b[43m)\u001b[49m\n\u001b[0;32m    153\u001b[0m logger\u001b[38;5;241m.\u001b[39mdebug(\u001b[38;5;124mf\u001b[39m\u001b[38;5;124m\"\u001b[39m\u001b[38;5;124mcompleted calling \u001b[39m\u001b[38;5;132;01m{\u001b[39;00mfunc\u001b[38;5;241m.\u001b[39m\u001b[38;5;18m__name__\u001b[39m\u001b[38;5;132;01m}\u001b[39;00m\u001b[38;5;124m on \u001b[39m\u001b[38;5;132;01m{\u001b[39;00mclassname\u001b[38;5;132;01m}\u001b[39;00m\u001b[38;5;124m\"\u001b[39m)\n",
      "File \u001b[1;32m~\\Anaconda3\\envs\\model_based_decision_making\\Lib\\site-packages\\ema_workbench\\em_framework\\model.py:181\u001b[0m, in \u001b[0;36mAbstractModel.run_model\u001b[1;34m(self, scenario, policy)\u001b[0m\n\u001b[0;32m    180\u001b[0m \u001b[38;5;28;01mif\u001b[39;00m \u001b[38;5;129;01mnot\u001b[39;00m \u001b[38;5;28mself\u001b[39m\u001b[38;5;241m.\u001b[39minitialized(policy):\n\u001b[1;32m--> 181\u001b[0m     \u001b[38;5;28;43mself\u001b[39;49m\u001b[38;5;241;43m.\u001b[39;49m\u001b[43mmodel_init\u001b[49m\u001b[43m(\u001b[49m\u001b[43mpolicy\u001b[49m\u001b[43m)\u001b[49m\n\u001b[0;32m    183\u001b[0m \u001b[38;5;28mself\u001b[39m\u001b[38;5;241m.\u001b[39m_transform(scenario, \u001b[38;5;28mself\u001b[39m\u001b[38;5;241m.\u001b[39muncertainties)\n",
      "File \u001b[1;32m~\\Anaconda3\\envs\\model_based_decision_making\\Lib\\site-packages\\ema_workbench\\util\\ema_logging.py:152\u001b[0m, in \u001b[0;36mmethod_logger.<locals>.real_decorator.<locals>.wrapper\u001b[1;34m(*args, **kwargs)\u001b[0m\n\u001b[0;32m    151\u001b[0m logger\u001b[38;5;241m.\u001b[39mdebug(\u001b[38;5;124mf\u001b[39m\u001b[38;5;124m\"\u001b[39m\u001b[38;5;124mcalling \u001b[39m\u001b[38;5;132;01m{\u001b[39;00mfunc\u001b[38;5;241m.\u001b[39m\u001b[38;5;18m__name__\u001b[39m\u001b[38;5;132;01m}\u001b[39;00m\u001b[38;5;124m on \u001b[39m\u001b[38;5;132;01m{\u001b[39;00mclassname\u001b[38;5;132;01m}\u001b[39;00m\u001b[38;5;124m\"\u001b[39m)\n\u001b[1;32m--> 152\u001b[0m res \u001b[38;5;241m=\u001b[39m \u001b[43mfunc\u001b[49m\u001b[43m(\u001b[49m\u001b[38;5;241;43m*\u001b[39;49m\u001b[43margs\u001b[49m\u001b[43m,\u001b[49m\u001b[43m \u001b[49m\u001b[38;5;241;43m*\u001b[39;49m\u001b[38;5;241;43m*\u001b[39;49m\u001b[43mkwargs\u001b[49m\u001b[43m)\u001b[49m\n\u001b[0;32m    153\u001b[0m logger\u001b[38;5;241m.\u001b[39mdebug(\u001b[38;5;124mf\u001b[39m\u001b[38;5;124m\"\u001b[39m\u001b[38;5;124mcompleted calling \u001b[39m\u001b[38;5;132;01m{\u001b[39;00mfunc\u001b[38;5;241m.\u001b[39m\u001b[38;5;18m__name__\u001b[39m\u001b[38;5;132;01m}\u001b[39;00m\u001b[38;5;124m on \u001b[39m\u001b[38;5;132;01m{\u001b[39;00mclassname\u001b[38;5;132;01m}\u001b[39;00m\u001b[38;5;124m\"\u001b[39m)\n",
      "File \u001b[1;32m~\\Anaconda3\\envs\\model_based_decision_making\\Lib\\site-packages\\ema_workbench\\connectors\\netlogo.py:134\u001b[0m, in \u001b[0;36mBaseNetLogoModel.model_init\u001b[1;34m(self, policy)\u001b[0m\n\u001b[0;32m    133\u001b[0m _logger\u001b[38;5;241m.\u001b[39mdebug(\u001b[38;5;124m\"\u001b[39m\u001b[38;5;124mtrying to start NetLogo\u001b[39m\u001b[38;5;124m\"\u001b[39m)\n\u001b[1;32m--> 134\u001b[0m \u001b[38;5;28mself\u001b[39m\u001b[38;5;241m.\u001b[39mnetlogo \u001b[38;5;241m=\u001b[39m \u001b[43mpynetlogo\u001b[49m\u001b[38;5;241;43m.\u001b[39;49m\u001b[43mNetLogoLink\u001b[49m\u001b[43m(\u001b[49m\n\u001b[0;32m    135\u001b[0m \u001b[43m    \u001b[49m\u001b[43mnetlogo_home\u001b[49m\u001b[38;5;241;43m=\u001b[39;49m\u001b[38;5;28;43mself\u001b[39;49m\u001b[38;5;241;43m.\u001b[39;49m\u001b[43mnetlogo_home\u001b[49m\u001b[43m,\u001b[49m\n\u001b[0;32m    136\u001b[0m \u001b[43m    \u001b[49m\u001b[43mjvm_path\u001b[49m\u001b[38;5;241;43m=\u001b[39;49m\u001b[38;5;28;43mself\u001b[39;49m\u001b[38;5;241;43m.\u001b[39;49m\u001b[43mjvm_path\u001b[49m\u001b[43m,\u001b[49m\n\u001b[0;32m    137\u001b[0m \u001b[43m    \u001b[49m\u001b[43mgui\u001b[49m\u001b[38;5;241;43m=\u001b[39;49m\u001b[38;5;28;43mself\u001b[39;49m\u001b[38;5;241;43m.\u001b[39;49m\u001b[43mgui\u001b[49m\u001b[43m,\u001b[49m\n\u001b[0;32m    138\u001b[0m \u001b[43m    \u001b[49m\u001b[43mjvmargs\u001b[49m\u001b[38;5;241;43m=\u001b[39;49m\u001b[38;5;28;43mself\u001b[39;49m\u001b[38;5;241;43m.\u001b[39;49m\u001b[43mjvm_args\u001b[49m\u001b[43m,\u001b[49m\n\u001b[0;32m    139\u001b[0m \u001b[43m\u001b[49m\u001b[43m)\u001b[49m\n\u001b[0;32m    140\u001b[0m _logger\u001b[38;5;241m.\u001b[39mdebug(\u001b[38;5;124m\"\u001b[39m\u001b[38;5;124mnetlogo started\u001b[39m\u001b[38;5;124m\"\u001b[39m)\n",
      "File \u001b[1;32m~\\Anaconda3\\envs\\model_based_decision_making\\Lib\\site-packages\\pynetlogo\\core.py:188\u001b[0m, in \u001b[0;36mNetLogoLink.__init__\u001b[1;34m(self, gui, thd, netlogo_home, jvm_path, jvmargs)\u001b[0m\n\u001b[0;32m    187\u001b[0m \u001b[38;5;28;01mif\u001b[39;00m \u001b[38;5;129;01mnot\u001b[39;00m jvm_path:\n\u001b[1;32m--> 188\u001b[0m     jvm_path \u001b[38;5;241m=\u001b[39m \u001b[43mjpype\u001b[49m\u001b[38;5;241;43m.\u001b[39;49m\u001b[43mgetDefaultJVMPath\u001b[49m\u001b[43m(\u001b[49m\u001b[43m)\u001b[49m\n\u001b[0;32m    190\u001b[0m \u001b[38;5;28mself\u001b[39m\u001b[38;5;241m.\u001b[39mnetlogo_home \u001b[38;5;241m=\u001b[39m netlogo_home\n",
      "File \u001b[1;32m~\\Anaconda3\\envs\\model_based_decision_making\\Lib\\site-packages\\jpype\\_jvmfinder.py:74\u001b[0m, in \u001b[0;36mgetDefaultJVMPath\u001b[1;34m()\u001b[0m\n\u001b[0;32m     73\u001b[0m     finder \u001b[38;5;241m=\u001b[39m LinuxJVMFinder()\n\u001b[1;32m---> 74\u001b[0m \u001b[38;5;28;01mreturn\u001b[39;00m \u001b[43mfinder\u001b[49m\u001b[38;5;241;43m.\u001b[39;49m\u001b[43mget_jvm_path\u001b[49m\u001b[43m(\u001b[49m\u001b[43m)\u001b[49m\n",
      "File \u001b[1;32m~\\Anaconda3\\envs\\model_based_decision_making\\Lib\\site-packages\\jpype\\_jvmfinder.py:212\u001b[0m, in \u001b[0;36mJVMFinder.get_jvm_path\u001b[1;34m(self)\u001b[0m\n\u001b[0;32m    211\u001b[0m     \u001b[38;5;28;01mraise\u001b[39;00m jvm_notsupport_ext\n\u001b[1;32m--> 212\u001b[0m \u001b[38;5;28;01mraise\u001b[39;00m JVMNotFoundException(\u001b[38;5;124m\"\u001b[39m\u001b[38;5;124mNo JVM shared library file (\u001b[39m\u001b[38;5;132;01m{0}\u001b[39;00m\u001b[38;5;124m) \u001b[39m\u001b[38;5;124m\"\u001b[39m\n\u001b[0;32m    213\u001b[0m                            \u001b[38;5;124m\"\u001b[39m\u001b[38;5;124mfound. Try setting up the JAVA_HOME \u001b[39m\u001b[38;5;124m\"\u001b[39m\n\u001b[0;32m    214\u001b[0m                            \u001b[38;5;124m\"\u001b[39m\u001b[38;5;124menvironment variable properly.\u001b[39m\u001b[38;5;124m\"\u001b[39m\n\u001b[0;32m    215\u001b[0m                            \u001b[38;5;241m.\u001b[39mformat(\u001b[38;5;28mself\u001b[39m\u001b[38;5;241m.\u001b[39m_libfile))\n",
      "\u001b[1;31mJVMNotFoundException\u001b[0m: No JVM shared library file (jvm.dll) found. Try setting up the JAVA_HOME environment variable properly.",
      "\nDuring handling of the above exception, another exception occurred:\n",
      "\u001b[1;31mEMAError\u001b[0m                                  Traceback (most recent call last)",
      "Cell \u001b[1;32mIn[4], line 40\u001b[0m\n\u001b[0;32m     37\u001b[0m nr_experiments \u001b[38;5;241m=\u001b[39m \u001b[38;5;241m50\u001b[39m\n\u001b[0;32m     39\u001b[0m \u001b[38;5;66;03m#Using Latin Hypercube sampling\u001b[39;00m\n\u001b[1;32m---> 40\u001b[0m experiments, outcomes \u001b[38;5;241m=\u001b[39m \u001b[43mperform_experiments\u001b[49m\u001b[43m(\u001b[49m\u001b[43m[\u001b[49m\u001b[43mpy_model\u001b[49m\u001b[43m,\u001b[49m\u001b[43m \u001b[49m\u001b[43mnl_model\u001b[49m\u001b[43m,\u001b[49m\u001b[43m \u001b[49m\u001b[43mexcel_model\u001b[49m\u001b[43m,\u001b[49m\u001b[43m \u001b[49m\u001b[43mpysd_model\u001b[49m\u001b[43m]\u001b[49m\u001b[43m,\u001b[49m\n\u001b[0;32m     41\u001b[0m \u001b[43m                                  \u001b[49m\u001b[43mnr_experiments\u001b[49m\u001b[43m,\u001b[49m\u001b[43m \u001b[49m\u001b[43muncertainty_sampling\u001b[49m\u001b[38;5;241;43m=\u001b[39;49m\u001b[43mSamplers\u001b[49m\u001b[38;5;241;43m.\u001b[39;49m\u001b[43mLHS\u001b[49m\u001b[43m)\u001b[49m\n",
      "File \u001b[1;32m~\\Anaconda3\\envs\\model_based_decision_making\\Lib\\site-packages\\ema_workbench\\em_framework\\evaluators.py:568\u001b[0m, in \u001b[0;36mperform_experiments\u001b[1;34m(models, scenarios, policies, evaluator, reporting_interval, reporting_frequency, uncertainty_union, lever_union, outcome_union, uncertainty_sampling, lever_sampling, callback, return_callback, combine, log_progress)\u001b[0m\n\u001b[0;32m    565\u001b[0m \u001b[38;5;28;01mif\u001b[39;00m \u001b[38;5;129;01mnot\u001b[39;00m evaluator:\n\u001b[0;32m    566\u001b[0m     evaluator \u001b[38;5;241m=\u001b[39m SequentialEvaluator(models)\n\u001b[1;32m--> 568\u001b[0m \u001b[43mevaluator\u001b[49m\u001b[38;5;241;43m.\u001b[39;49m\u001b[43mevaluate_experiments\u001b[49m\u001b[43m(\u001b[49m\u001b[43mscenarios\u001b[49m\u001b[43m,\u001b[49m\u001b[43m \u001b[49m\u001b[43mpolicies\u001b[49m\u001b[43m,\u001b[49m\u001b[43m \u001b[49m\u001b[43mcallback\u001b[49m\u001b[43m,\u001b[49m\u001b[43m \u001b[49m\u001b[43mcombine\u001b[49m\u001b[38;5;241;43m=\u001b[39;49m\u001b[43mcombine\u001b[49m\u001b[43m)\u001b[49m\n\u001b[0;32m    570\u001b[0m \u001b[38;5;28;01mif\u001b[39;00m callback\u001b[38;5;241m.\u001b[39mi \u001b[38;5;241m!=\u001b[39m nr_of_exp:\n\u001b[0;32m    571\u001b[0m     \u001b[38;5;28;01mraise\u001b[39;00m EMAError(\n\u001b[0;32m    572\u001b[0m         (\n\u001b[0;32m    573\u001b[0m             \u001b[38;5;124m\"\u001b[39m\u001b[38;5;124msome fatal error has occurred while \u001b[39m\u001b[38;5;124m\"\u001b[39m\n\u001b[1;32m   (...)\u001b[0m\n\u001b[0;32m    576\u001b[0m         )\u001b[38;5;241m.\u001b[39mformat(nr_of_exp, callback\u001b[38;5;241m.\u001b[39mi)\n\u001b[0;32m    577\u001b[0m     )\n",
      "File \u001b[1;32m~\\Anaconda3\\envs\\model_based_decision_making\\Lib\\site-packages\\ema_workbench\\em_framework\\evaluators.py:311\u001b[0m, in \u001b[0;36mSequentialEvaluator.evaluate_experiments\u001b[1;34m(self, scenarios, policies, callback, combine)\u001b[0m\n\u001b[0;32m    308\u001b[0m runner \u001b[38;5;241m=\u001b[39m ExperimentRunner(models)\n\u001b[0;32m    310\u001b[0m \u001b[38;5;28;01mfor\u001b[39;00m experiment \u001b[38;5;129;01min\u001b[39;00m ex_gen:\n\u001b[1;32m--> 311\u001b[0m     outcomes \u001b[38;5;241m=\u001b[39m \u001b[43mrunner\u001b[49m\u001b[38;5;241;43m.\u001b[39;49m\u001b[43mrun_experiment\u001b[49m\u001b[43m(\u001b[49m\u001b[43mexperiment\u001b[49m\u001b[43m)\u001b[49m\n\u001b[0;32m    312\u001b[0m     callback(experiment, outcomes)\n\u001b[0;32m    313\u001b[0m runner\u001b[38;5;241m.\u001b[39mcleanup()\n",
      "File \u001b[1;32m~\\Anaconda3\\envs\\model_based_decision_making\\Lib\\site-packages\\ema_workbench\\util\\ema_logging.py:152\u001b[0m, in \u001b[0;36mmethod_logger.<locals>.real_decorator.<locals>.wrapper\u001b[1;34m(*args, **kwargs)\u001b[0m\n\u001b[0;32m    147\u001b[0m \u001b[38;5;129m@wraps\u001b[39m(func)\n\u001b[0;32m    148\u001b[0m \u001b[38;5;28;01mdef\u001b[39;00m \u001b[38;5;21mwrapper\u001b[39m(\u001b[38;5;241m*\u001b[39margs, \u001b[38;5;241m*\u001b[39m\u001b[38;5;241m*\u001b[39mkwargs):\n\u001b[0;32m    149\u001b[0m     \u001b[38;5;66;03m# hack, because log is applied to methods, we can get\u001b[39;00m\n\u001b[0;32m    150\u001b[0m     \u001b[38;5;66;03m# object instance as first arguments in args\u001b[39;00m\n\u001b[0;32m    151\u001b[0m     logger\u001b[38;5;241m.\u001b[39mdebug(\u001b[38;5;124mf\u001b[39m\u001b[38;5;124m\"\u001b[39m\u001b[38;5;124mcalling \u001b[39m\u001b[38;5;132;01m{\u001b[39;00mfunc\u001b[38;5;241m.\u001b[39m\u001b[38;5;18m__name__\u001b[39m\u001b[38;5;132;01m}\u001b[39;00m\u001b[38;5;124m on \u001b[39m\u001b[38;5;132;01m{\u001b[39;00mclassname\u001b[38;5;132;01m}\u001b[39;00m\u001b[38;5;124m\"\u001b[39m)\n\u001b[1;32m--> 152\u001b[0m     res \u001b[38;5;241m=\u001b[39m \u001b[43mfunc\u001b[49m\u001b[43m(\u001b[49m\u001b[38;5;241;43m*\u001b[39;49m\u001b[43margs\u001b[49m\u001b[43m,\u001b[49m\u001b[43m \u001b[49m\u001b[38;5;241;43m*\u001b[39;49m\u001b[38;5;241;43m*\u001b[39;49m\u001b[43mkwargs\u001b[49m\u001b[43m)\u001b[49m\n\u001b[0;32m    153\u001b[0m     logger\u001b[38;5;241m.\u001b[39mdebug(\u001b[38;5;124mf\u001b[39m\u001b[38;5;124m\"\u001b[39m\u001b[38;5;124mcompleted calling \u001b[39m\u001b[38;5;132;01m{\u001b[39;00mfunc\u001b[38;5;241m.\u001b[39m\u001b[38;5;18m__name__\u001b[39m\u001b[38;5;132;01m}\u001b[39;00m\u001b[38;5;124m on \u001b[39m\u001b[38;5;132;01m{\u001b[39;00mclassname\u001b[38;5;132;01m}\u001b[39;00m\u001b[38;5;124m\"\u001b[39m)\n\u001b[0;32m    154\u001b[0m     \u001b[38;5;28;01mreturn\u001b[39;00m res\n",
      "File \u001b[1;32m~\\Anaconda3\\envs\\model_based_decision_making\\Lib\\site-packages\\ema_workbench\\em_framework\\experiment_runner.py:107\u001b[0m, in \u001b[0;36mExperimentRunner.run_experiment\u001b[1;34m(self, experiment)\u001b[0m\n\u001b[0;32m    101\u001b[0m     \u001b[38;5;66;03m#             exception = traceback.print_exc()\u001b[39;00m\n\u001b[0;32m    102\u001b[0m     \u001b[38;5;66;03m#             if exception:\u001b[39;00m\n\u001b[0;32m    103\u001b[0m     \u001b[38;5;66;03m#                 sys.stderr.write(exception)\u001b[39;00m\n\u001b[0;32m    104\u001b[0m     \u001b[38;5;66;03m#                 sys.stderr.write(\"\\n\")\u001b[39;00m\n\u001b[0;32m    106\u001b[0m     errortype \u001b[38;5;241m=\u001b[39m \u001b[38;5;28mtype\u001b[39m(e)\u001b[38;5;241m.\u001b[39m\u001b[38;5;18m__name__\u001b[39m\n\u001b[1;32m--> 107\u001b[0m     \u001b[38;5;28;01mraise\u001b[39;00m EMAError(\u001b[38;5;124mf\u001b[39m\u001b[38;5;124m\"\u001b[39m\u001b[38;5;124mexception in run_model\u001b[39m\u001b[38;5;130;01m\\n\u001b[39;00m\u001b[38;5;124mCaused by: \u001b[39m\u001b[38;5;132;01m{\u001b[39;00merrortype\u001b[38;5;132;01m}\u001b[39;00m\u001b[38;5;124m: \u001b[39m\u001b[38;5;132;01m{\u001b[39;00m\u001b[38;5;28mstr\u001b[39m(e)\u001b[38;5;132;01m}\u001b[39;00m\u001b[38;5;124m\"\u001b[39m)\n\u001b[0;32m    109\u001b[0m outcomes \u001b[38;5;241m=\u001b[39m model\u001b[38;5;241m.\u001b[39moutcomes_output\n\u001b[0;32m    110\u001b[0m model\u001b[38;5;241m.\u001b[39mreset_model()\n",
      "\u001b[1;31mEMAError\u001b[0m: exception in run_model\nCaused by: JVMNotFoundException: No JVM shared library file (jvm.dll) found. Try setting up the JAVA_HOME environment variable properly."
     ]
    }
   ],
   "source": [
    "ema_logging.log_to_stderr(ema_logging.INFO)\n",
    "\n",
    "#We can define common uncertainties and outcomes for each model:\n",
    "uncertainties = [RealParameter('prey_birth_rate', 0.015, 0.035),\n",
    "                 RealParameter('predation_rate', 0.0005, 0.003),\n",
    "                 RealParameter('predator_efficiency', 0.001, 0.004),\n",
    "                 RealParameter('predator_loss_rate', 0.04, 0.08)] \n",
    "\n",
    "outcomes = [TimeSeriesOutcome('TIME', function=np.squeeze),\n",
    "            TimeSeriesOutcome('predators', function=np.squeeze),\n",
    "            TimeSeriesOutcome('prey', function=np.squeeze)]\n",
    "\n",
    "\n",
    "#Define the Python model\n",
    "py_model = Model('Python', function=PredPrey)\n",
    "py_model.uncertainties = uncertainties\n",
    "py_model.outcomes = outcomes\n",
    "\n",
    "#Define the NetLogo model\n",
    "nl_model = NetLogoModel('NetLogo', wd='./model/', model_file=\"PredPrey.nlogo\")\n",
    "nl_model.run_length = int(365 / 0.25)\n",
    "nl_model.replications = 1\n",
    "nl_model.uncertainties = uncertainties\n",
    "nl_model.outcomes = outcomes\n",
    "\n",
    "#Define the Excel model\n",
    "excel_model = ExcelModel('Excel', wd='./model/', model_file='PredPrey.xlsx')\n",
    "excel_model.default_sheet = 'Sheet1' #WAAROM DEZE?\n",
    "excel_model.uncertainties = uncertainties\n",
    "excel_model.outcomes = outcomes\n",
    "\n",
    "#Define the PySD (Vensim) model\n",
    "pysd_model = PysdModel('PySD', mdl_file='./model/PredPrey.mdl')\n",
    "pysd_model.uncertainties = uncertainties\n",
    "pysd_model.outcomes = outcomes\n",
    "    \n",
    "nr_experiments = 50\n",
    "\n",
    "#Using Latin Hypercube sampling\n",
    "experiments, outcomes = perform_experiments([py_model, nl_model, excel_model, pysd_model],\n",
    "                                  nr_experiments, uncertainty_sampling=Samplers.LHS)\n"
   ]
  },
  {
   "cell_type": "markdown",
   "metadata": {},
   "source": [
    "We can split the results tuple into experiments and outcomes, and check the dimensions of each. The dimensions of each outcome array correspond to 200 experiments (50 unique combinations of uncertainties * 4 models), 1 replication, and 1461 time steps (or 365/0.25)."
   ]
  },
  {
   "cell_type": "code",
   "execution_count": null,
   "metadata": {
    "ExecuteTime": {
     "end_time": "2023-04-07T13:55:53.006827Z",
     "start_time": "2023-04-07T13:55:52.975821Z"
    },
    "collapsed": false,
    "jupyter": {
     "outputs_hidden": false
    }
   },
   "outputs": [],
   "source": [
    "print(experiments.shape)\n",
    "print(outcomes['prey'].shape)\n",
    "\n",
    "#The experiments are grouped sequentially by model: indices 0-49 are the Python function, 50-99 the NetLogo model, etc.\n",
    "experiments.iloc[[0, 50, 100, 150], :]"
   ]
  },
  {
   "cell_type": "markdown",
   "metadata": {},
   "source": [
    "The lines graph shows that although the models behave quite differently depending on the experiments, the results are graphically identical across the 4 models. WAAR EN HOE ZIE JE DIT? HIER BENEDEN! Je ziet het inderdaad. Groene kleur overlapt volledig met blauw en oranje, modellen identiek. Verder zie je idd dat per run the prey per tijd, het verloop daarvan, behoorlijk verschilt."
   ]
  },
  {
   "cell_type": "code",
   "execution_count": null,
   "metadata": {
    "ExecuteTime": {
     "end_time": "2023-04-07T13:55:55.854493Z",
     "start_time": "2023-04-07T13:55:55.838733Z"
    }
   },
   "outputs": [],
   "source": [
    "for k, v in outcomes.items():\n",
    "    print(k, v.shape)"
   ]
  },
  {
   "cell_type": "code",
   "execution_count": null,
   "metadata": {},
   "outputs": [],
   "source": [
    "for k, v in outcomes.items():\n",
    "    print(k, v)"
   ]
  },
  {
   "cell_type": "code",
   "execution_count": null,
   "metadata": {
    "ExecuteTime": {
     "end_time": "2023-04-07T13:55:57.043268Z",
     "start_time": "2023-04-07T13:55:56.808539Z"
    },
    "collapsed": false,
    "jupyter": {
     "outputs_hidden": false
    }
   },
   "outputs": [],
   "source": [
    "experiments_to_show = np.arange(0, experiments.shape[0], 1)\n",
    "print(experiments_to_show)\n",
    "\n",
    "lines(experiments, outcomes, outcomes_to_show='prey', group_by='model',\n",
    "      show_envelope=True, density=Density.KDE, titles=None, \n",
    "      experiments_to_show=experiments_to_show) #WAT BETEKENT show_envelope en experiments_to_show ?!\n",
    "plt.show()"
   ]
  },
  {
   "cell_type": "markdown",
   "metadata": {},
   "source": [
    "Finally, we can check any differences between the model implementations and the Python function, by using logical indexing to select the outcome indices corresponding to each model, and subtracting the arrays from each other:"
   ]
  },
  {
   "cell_type": "code",
   "execution_count": null,
   "metadata": {
    "ExecuteTime": {
     "end_time": "2023-04-07T13:55:58.238900Z",
     "start_time": "2023-04-07T13:55:58.235352Z"
    },
    "collapsed": false,
    "jupyter": {
     "outputs_hidden": false
    }
   },
   "outputs": [],
   "source": [
    "#Find the model implementations that were sampled in the experiments\n",
    "models = [i for i in experiments.model.unique() if i != 'Python']\n",
    "\n",
    "for model in models:\n",
    "    logical = experiments.model==model #Hmmmm..\n",
    "    \n",
    "    print('Max absolute error with {}:'.format(model))\n",
    "    print(np.max(abs(outcomes['prey'][logical] - outcomes['prey'][logical]))) #HOE WERKT DIT DAN?"
   ]
  },
  {
   "cell_type": "code",
   "execution_count": null,
   "metadata": {
    "collapsed": false,
    "jupyter": {
     "outputs_hidden": false
    }
   },
   "outputs": [],
   "source": []
  }
 ],
 "metadata": {
  "kernelspec": {
   "display_name": "Python 3 (ipykernel)",
   "language": "python",
   "name": "python3"
  },
  "language_info": {
   "codemirror_mode": {
    "name": "ipython",
    "version": 3
   },
   "file_extension": ".py",
   "mimetype": "text/x-python",
   "name": "python",
   "nbconvert_exporter": "python",
   "pygments_lexer": "ipython3",
   "version": "3.11.3"
  }
 },
 "nbformat": 4,
 "nbformat_minor": 4
}

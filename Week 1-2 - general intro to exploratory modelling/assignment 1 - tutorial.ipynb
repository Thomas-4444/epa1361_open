{
 "cells": [
  {
   "cell_type": "markdown",
   "metadata": {},
   "source": [
    "## 1. Tutorial: Introduction to the SIR Model and the Workbench\n",
    "Learn the basics of the SIR model, connect it to the workbench, run simulations, and visualize the results to understand the impact of uncertain parameters.\n",
    "\n",
    "### Overview of this notebook\n",
    "- Introduction to the SIR model:\n",
    "  - Learn the basic principles of the SIR model for disease spread.\n",
    "  - Understand the three groups in the model and the role of parameters β and γ.\n",
    "- Connecting the SIR model with the workbench:\n",
    "  - Learn how to connect a Python-based model to the workbench.\n",
    "  - Understand how to specify uncertain parameters and outcomes of interest.\n",
    "- Running the model with the workbench:\n",
    "  - Learn how to run the connected model using the workbench's evaluator and perform_experiments method.\n",
    "  - Explore the concept of scenarios and the default sampling method used by the workbench.\n",
    "- Visualizing the results:\n",
    "  - Get introduced to visualization tools provided by the workbench for time series data.\n",
    "  - Investigate the effects of uncertain parameters on the outcomes and gain insights from the visualizations."
   ]
  },
  {
   "cell_type": "markdown",
   "metadata": {},
   "source": [
    "### SIR model\n",
    "A very basic model for the spread of a dissease is the Succeptible, Infected, Recovered (SIR) model. This model splits a population into three groups.\n",
    "\n",
    "1. $S(t)$ - the part of the population that is succeptible but not yet infected with the disease\n",
    "2. $I(t)$ - the part of the population that is infected with the disease\n",
    "3. $R(t)$ - the part of the population that has recovered from the disease. \n",
    "\n",
    "The SIR model uses a system of ODE's to describe how these three groups change over time. In it's most simple form, the model uses only the contact ration $\\beta$ and the mean recovery rate $\\gamma$ for this.\n",
    "\n",
    "Below is a python implementation of this simple model, taken from https://scipython.com/book/chapter-8-scipy/additional-examples/the-sir-epidemic-model/. \n"
   ]
  },
  {
   "cell_type": "code",
   "execution_count": 1,
   "metadata": {
    "ExecuteTime": {
     "end_time": "2023-04-07T11:07:15.133418Z",
     "start_time": "2023-04-07T11:07:15.101837Z"
    },
    "collapsed": false,
    "jupyter": {
     "outputs_hidden": false
    }
   },
   "outputs": [],
   "source": [
    "import numpy as np\n",
    "import matplotlib.pyplot as plt\n",
    "import seaborn as sns\n",
    "\n",
    "from scipy.integrate import odeint"
   ]
  },
  {
   "cell_type": "code",
   "execution_count": 2,
   "metadata": {
    "ExecuteTime": {
     "end_time": "2023-04-07T11:06:22.289590Z",
     "start_time": "2023-04-07T11:06:22.132709Z"
    }
   },
   "outputs": [],
   "source": [
    "# The SIR model differential equations.\n",
    "def deriv(y, t, N, beta, gamma):\n",
    "    S, I, R = y\n",
    "    dSdt = -beta * S * I / N\n",
    "    dIdt = beta * S * I / N - gamma * I\n",
    "    dRdt = gamma * I\n",
    "    return dSdt, dIdt, dRdt\n",
    "\n",
    "def SIR_model(beta=0.2, gamma=0.1, I0=1, R0=0, \n",
    "              N=1000, t=np.linspace(0, 160, 160)):\n",
    "    '''\n",
    "    \n",
    "    Parameters\n",
    "    ----------\n",
    "    beta : float\n",
    "           contact rate\n",
    "    gamma : float\n",
    "            recovery rate\n",
    "    I0 : int\n",
    "         initial value infected\n",
    "    R0 : int\n",
    "         initial value recovered\n",
    "    N : int\n",
    "        population size\n",
    "    t : ndarray\n",
    "        points in time\n",
    "    \n",
    "    '''\n",
    "    S0 = N - I0 - R0\n",
    "    \n",
    "    # Initial conditions vector\n",
    "    y0 = S0, I0, R0\n",
    "    # Integrate the SIR equations over the time grid, t.\n",
    "    ret = odeint(deriv, y0, t, args=(N, beta, gamma))\n",
    "    S, I, R = ret.T\n",
    "    \n",
    "    return {'S':S, 'I':I, 'R':R}"
   ]
  },
  {
   "cell_type": "markdown",
   "metadata": {},
   "source": [
    "### Connecting the SIR model with the workbench\n",
    "\n",
    "Let's connect this simple model to the workbench. We make the following assumptions\n",
    "1. $\\beta$ and $\\gamma$ are uncertain. We assume that $\\beta$ is somewhere between 0.05 and 0.3, while $\\gamma$ is somewhere between 0.01, and 0.15.\n",
    "2. The outcomes of interest are $S(t)$, $I(t)$, and $R(t)$ over time.\n",
    "\n",
    "To connect the model to the workbench, we need to do at least 3 things:\n",
    "1. **Instantiate a model class**; the workbench comes with a variety of model classes for making it easy to connect with existing simulation packages such as Vensim, PySD, Simio, or Netlogo. Since we have a model implemented in Python, we can use the most basic Model class.\n",
    "2. **Specify the uncertain parameters** (and/or decision levers); Note below how the name of the parameters matched the name of the keyword arguments of the SIR_model function. The workbench makes a distinction between RealParameters, IntegerParameters, BinaryParameters, and CategoricalParameters. For this example, our parameters $\\beta$ and $\\gamma$ have a continuous range so we use RealParameters \n",
    "3. **Specify the outcomes of interest**; the workbench makes a distinction between TimeSeriesOutcomes and ScalarOutcomes. $S$, $I$, and $R$ are time series, so we use TimeSeriesOutcomes"
   ]
  },
  {
   "cell_type": "code",
   "execution_count": 3,
   "metadata": {
    "ExecuteTime": {
     "end_time": "2023-04-07T11:06:23.490082Z",
     "start_time": "2023-04-07T11:06:22.148508Z"
    }
   },
   "outputs": [],
   "source": [
    "from ema_workbench import Model, RealParameter, TimeSeriesOutcome\n",
    "\n",
    "model = Model('SIR', function=SIR_model)\n",
    "\n",
    "model.uncertainties = [RealParameter('beta', 0.05, 0.3),\n",
    "                       RealParameter('gamma', 0.01, 0.15)]\n",
    "\n",
    "model.outcomes = [TimeSeriesOutcome('S'),\n",
    "                  TimeSeriesOutcome('I'),\n",
    "                  TimeSeriesOutcome('R')]"
   ]
  },
  {
   "cell_type": "markdown",
   "metadata": {},
   "source": [
    "The code above is a minimum working example of how to connect a model, the SIR_model function in this case, to the ema workbech. Even very large and complex cases will mimic this structure. \n",
    "\n",
    "### Running the model with the workbench\n",
    "\n",
    "The next step is to run the model. For this we use an evaluator and the perform_experiments method. The workbench by default will use a latin hypercupe sampler to generate points in the parameter space defined by the uncertainties and/or levers. The uncertainties jointly span the uncertainty space. The levers (not used in this example) span the lever space. A point in uncertainty space is a scenario. A point in lever space is a policy. The combination of a scenario and a policy (where either might be None) is an experiment. \n",
    "\n",
    "A few remarks on this\n",
    "1. The workbench assumes uniform distributions. During the class it will be explained in more detail why we make this assumption and what consequences follow from this.\n",
    "2. The workbench comes with a wide range of alternative samplers, some of which we will use later in the course\n",
    "3. The workbench offers support for taking advantage of the fact that many modern computers have multiple cores. See assingment 2 for this week for more on this. For now, we use a SequentialEvaluator\n",
    "4. The workbench treats sampling in the uncertainty space and the lever space separately. It will always execute a full factorial over the combination of the lever space and the uncertainty space.\n",
    "\n",
    "Let's run the model for 100 scenarios."
   ]
  },
  {
   "cell_type": "code",
   "execution_count": 4,
   "metadata": {
    "ExecuteTime": {
     "end_time": "2023-04-07T11:06:23.622168Z",
     "start_time": "2023-04-07T11:06:23.494096Z"
    }
   },
   "outputs": [
    {
     "name": "stderr",
     "output_type": "stream",
     "text": [
      "100%|███████████████████████████████████████| 100/100 [00:00<00:00, 881.10it/s]\n"
     ]
    }
   ],
   "source": [
    "from ema_workbench import SequentialEvaluator\n",
    "\n",
    "with SequentialEvaluator(model) as evaluator:\n",
    "    experiments, outcomes = evaluator.perform_experiments(scenarios=100)"
   ]
  },
  {
   "cell_type": "code",
   "execution_count": 5,
   "metadata": {
    "ExecuteTime": {
     "end_time": "2023-04-07T11:06:23.651609Z",
     "start_time": "2023-04-07T11:06:23.614751Z"
    },
    "collapsed": false,
    "jupyter": {
     "outputs_hidden": false
    }
   },
   "outputs": [
    {
     "data": {
      "text/html": [
       "<div>\n",
       "<style scoped>\n",
       "    .dataframe tbody tr th:only-of-type {\n",
       "        vertical-align: middle;\n",
       "    }\n",
       "\n",
       "    .dataframe tbody tr th {\n",
       "        vertical-align: top;\n",
       "    }\n",
       "\n",
       "    .dataframe thead th {\n",
       "        text-align: right;\n",
       "    }\n",
       "</style>\n",
       "<table border=\"1\" class=\"dataframe\">\n",
       "  <thead>\n",
       "    <tr style=\"text-align: right;\">\n",
       "      <th></th>\n",
       "      <th>beta</th>\n",
       "      <th>gamma</th>\n",
       "      <th>scenario</th>\n",
       "      <th>policy</th>\n",
       "      <th>model</th>\n",
       "    </tr>\n",
       "  </thead>\n",
       "  <tbody>\n",
       "    <tr>\n",
       "      <th>0</th>\n",
       "      <td>0.069485</td>\n",
       "      <td>0.132179</td>\n",
       "      <td>0</td>\n",
       "      <td>None</td>\n",
       "      <td>SIR</td>\n",
       "    </tr>\n",
       "    <tr>\n",
       "      <th>1</th>\n",
       "      <td>0.254490</td>\n",
       "      <td>0.087738</td>\n",
       "      <td>1</td>\n",
       "      <td>None</td>\n",
       "      <td>SIR</td>\n",
       "    </tr>\n",
       "    <tr>\n",
       "      <th>2</th>\n",
       "      <td>0.173885</td>\n",
       "      <td>0.036160</td>\n",
       "      <td>2</td>\n",
       "      <td>None</td>\n",
       "      <td>SIR</td>\n",
       "    </tr>\n",
       "    <tr>\n",
       "      <th>3</th>\n",
       "      <td>0.061196</td>\n",
       "      <td>0.121782</td>\n",
       "      <td>3</td>\n",
       "      <td>None</td>\n",
       "      <td>SIR</td>\n",
       "    </tr>\n",
       "    <tr>\n",
       "      <th>4</th>\n",
       "      <td>0.155640</td>\n",
       "      <td>0.027542</td>\n",
       "      <td>4</td>\n",
       "      <td>None</td>\n",
       "      <td>SIR</td>\n",
       "    </tr>\n",
       "    <tr>\n",
       "      <th>...</th>\n",
       "      <td>...</td>\n",
       "      <td>...</td>\n",
       "      <td>...</td>\n",
       "      <td>...</td>\n",
       "      <td>...</td>\n",
       "    </tr>\n",
       "    <tr>\n",
       "      <th>95</th>\n",
       "      <td>0.229507</td>\n",
       "      <td>0.128361</td>\n",
       "      <td>95</td>\n",
       "      <td>None</td>\n",
       "      <td>SIR</td>\n",
       "    </tr>\n",
       "    <tr>\n",
       "      <th>96</th>\n",
       "      <td>0.139841</td>\n",
       "      <td>0.133234</td>\n",
       "      <td>96</td>\n",
       "      <td>None</td>\n",
       "      <td>SIR</td>\n",
       "    </tr>\n",
       "    <tr>\n",
       "      <th>97</th>\n",
       "      <td>0.225499</td>\n",
       "      <td>0.119121</td>\n",
       "      <td>97</td>\n",
       "      <td>None</td>\n",
       "      <td>SIR</td>\n",
       "    </tr>\n",
       "    <tr>\n",
       "      <th>98</th>\n",
       "      <td>0.086988</td>\n",
       "      <td>0.071364</td>\n",
       "      <td>98</td>\n",
       "      <td>None</td>\n",
       "      <td>SIR</td>\n",
       "    </tr>\n",
       "    <tr>\n",
       "      <th>99</th>\n",
       "      <td>0.246700</td>\n",
       "      <td>0.105989</td>\n",
       "      <td>99</td>\n",
       "      <td>None</td>\n",
       "      <td>SIR</td>\n",
       "    </tr>\n",
       "  </tbody>\n",
       "</table>\n",
       "<p>100 rows × 5 columns</p>\n",
       "</div>"
      ],
      "text/plain": [
       "        beta     gamma scenario policy model\n",
       "0   0.069485  0.132179        0   None   SIR\n",
       "1   0.254490  0.087738        1   None   SIR\n",
       "2   0.173885  0.036160        2   None   SIR\n",
       "3   0.061196  0.121782        3   None   SIR\n",
       "4   0.155640  0.027542        4   None   SIR\n",
       "..       ...       ...      ...    ...   ...\n",
       "95  0.229507  0.128361       95   None   SIR\n",
       "96  0.139841  0.133234       96   None   SIR\n",
       "97  0.225499  0.119121       97   None   SIR\n",
       "98  0.086988  0.071364       98   None   SIR\n",
       "99  0.246700  0.105989       99   None   SIR\n",
       "\n",
       "[100 rows x 5 columns]"
      ]
     },
     "execution_count": 5,
     "metadata": {},
     "output_type": "execute_result"
    }
   ],
   "source": [
    "experiments"
   ]
  },
  {
   "cell_type": "markdown",
   "metadata": {},
   "source": [
    "### Visualizing the results\n",
    "\n",
    "Now that we have run the model 100 times, we can visualize the results. The workbench comes with a range of analysis functions including some convenience functions for visualizing time series data. For now, we use the function `ema_workbench.analysis.plotting.lines`. If you want to get a sense of what other analyses are available, please read the online documentation at https://emaworkbench.readthedocs.io. Over the coming weeks, we will systematically go through many of the analyses that are available."
   ]
  },
  {
   "cell_type": "code",
   "execution_count": 7,
   "metadata": {},
   "outputs": [
    {
     "data": {
      "text/plain": [
       "dict_keys(['S', 'I', 'R'])"
      ]
     },
     "execution_count": 7,
     "metadata": {},
     "output_type": "execute_result"
    }
   ],
   "source": [
    "outcomes.keys()"
   ]
  },
  {
   "cell_type": "code",
   "execution_count": 8,
   "metadata": {},
   "outputs": [
    {
     "data": {
      "text/plain": [
       "dict_values([array([[999.        , 998.93231002, 998.86876746, ..., 997.89534568,\n",
       "        997.89534238, 997.89533928],\n",
       "       [999.        , 998.72152692, 998.3923853 , ...,  66.70934094,\n",
       "         66.70565122,  66.70221529],\n",
       "       [999.        , 998.81253953, 998.59730064, ...,   9.66496685,\n",
       "          9.6222063 ,   9.58108388],\n",
       "       ...,\n",
       "       [999.        , 998.76079057, 998.49469615, ..., 235.11622222,\n",
       "        235.08162373, 235.04925666],\n",
       "       [999.        , 998.9118693 , 998.82235856, ..., 946.88350389,\n",
       "        946.12028991, 945.34925538],\n",
       "       [999.        , 998.73365165, 998.42697349, ..., 132.77731916,\n",
       "        132.77081808, 132.76477914]]), array([[1.00000000e+00, 9.38792869e-01, 8.81328002e-01, ...,\n",
       "        4.88523210e-05, 4.58590386e-05, 4.30492405e-05],\n",
       "       [1.00000000e+00, 1.18235668e+00, 1.39785884e+00, ...,\n",
       "        2.23766744e-01, 2.08387027e-01, 1.94064193e-01],\n",
       "       [1.00000000e+00, 1.14843423e+00, 1.31885483e+00, ...,\n",
       "        2.57830493e+01, 2.49037116e+01, 2.40541874e+01],\n",
       "       ...,\n",
       "       [1.00000000e+00, 1.11270418e+00, 1.23803969e+00, ...,\n",
       "        6.70354578e-01, 6.27212047e-01, 5.86841616e-01],\n",
       "       [1.00000000e+00, 1.01575343e+00, 1.03174701e+00, ...,\n",
       "        9.16096333e+00, 9.26265247e+00, 9.36484152e+00],\n",
       "       [1.00000000e+00, 1.15178864e+00, 1.32652289e+00, ...,\n",
       "        2.04590009e-01, 1.90055143e-01, 1.76552616e-01]]), array([[0.00000000e+00, 1.28897113e-01, 2.49904541e-01, ...,\n",
       "        2.10460547e+00, 2.10461176e+00, 2.10461767e+00],\n",
       "       [0.00000000e+00, 9.61163967e-02, 2.09755866e-01, ...,\n",
       "        9.33066892e+02, 9.33085962e+02, 9.33103721e+02],\n",
       "       [0.00000000e+00, 3.90262415e-02, 8.38445335e-02, ...,\n",
       "        9.64551984e+02, 9.65474082e+02, 9.66364729e+02],\n",
       "       ...,\n",
       "       [0.00000000e+00, 1.26505251e-01, 2.67264158e-01, ...,\n",
       "        7.64213423e+02, 7.64291164e+02, 7.64363902e+02],\n",
       "       [0.00000000e+00, 7.23772724e-02, 1.45894434e-01, ...,\n",
       "        4.39555328e+01, 4.46170576e+01, 4.52859031e+01],\n",
       "       [0.00000000e+00, 1.14559712e-01, 2.46503621e-01, ...,\n",
       "        8.67018091e+02, 8.67039127e+02, 8.67058668e+02]])])"
      ]
     },
     "execution_count": 8,
     "metadata": {},
     "output_type": "execute_result"
    }
   ],
   "source": [
    "outcomes.values()"
   ]
  },
  {
   "cell_type": "code",
   "execution_count": null,
   "metadata": {
    "ExecuteTime": {
     "end_time": "2023-04-07T11:06:26.000111Z",
     "start_time": "2023-04-07T11:06:23.638223Z"
    },
    "collapsed": false,
    "jupyter": {
     "outputs_hidden": false
    }
   },
   "outputs": [],
   "source": [
    "from ema_workbench.analysis import plotting, plotting_util\n",
    "\n",
    "for outcome in outcomes.keys():\n",
    "    plotting.lines(experiments, outcomes, outcomes_to_show=outcome,\n",
    "                   density=plotting_util.Density.HIST)\n",
    "plt.show()"
   ]
  },
  {
   "cell_type": "markdown",
   "metadata": {},
   "source": [
    "In each plot on the left for all hunderd runs the susceptible, infected, and recovered population are plotted. On the right of each plot, a histogram of these values is shown."
   ]
  },
  {
   "cell_type": "markdown",
   "metadata": {},
   "source": [
    "#### Effect uncertainty on outbreak\n",
    "A key element in exploratory modeling is to try to understand how points in the uncertainty space map relate to outcomes or types of outcomes. Since in this example, we only have 2 uncertain parameters, basic visual inspection can already give a fair bit of insight. Let's try to answer the following question: how do $\\gamma$ and $\\beta$ affect the severity and timing of the outbreak? To answer this we need to do the following:\n",
    "1. get the maximum value over time for $I$ for each scenario (use np.max)\n",
    "2. Establish the point in time of this maximum (use np.argmax)\n",
    "3. visualize how 1 and 2 are affected by $\\beta$ and $\\gamma$ **jointly** (use scatter plots with max I, and the point in time as color)\n",
    "4. How are timing and the maximum related to each other?\n"
   ]
  },
  {
   "cell_type": "code",
   "execution_count": null,
   "metadata": {
    "ExecuteTime": {
     "end_time": "2023-04-07T11:07:27.978766Z",
     "start_time": "2023-04-07T11:07:27.947200Z"
    },
    "collapsed": false,
    "jupyter": {
     "outputs_hidden": false
    }
   },
   "outputs": [],
   "source": [
    "# Calculate the maximum value of I\n",
    "I = outcomes['I']\n",
    "maxI = np.max(I, axis=1)\n",
    "\n",
    "# Calculate the timing of the maximum value of I\n",
    "timing = np.argmax(I, axis=1)"
   ]
  },
  {
   "cell_type": "code",
   "execution_count": null,
   "metadata": {
    "ExecuteTime": {
     "end_time": "2023-04-07T12:24:49.515988Z",
     "start_time": "2023-04-07T12:24:49.247420Z"
    },
    "collapsed": false,
    "jupyter": {
     "outputs_hidden": false
    }
   },
   "outputs": [],
   "source": [
    "def plot_scatter(labels=False, beta_is_gamma_line=False):\n",
    "    # Plot the relationship between beta and gamma, using max I and timing as color\n",
    "    fig, ax = plt.subplots(1,2, figsize=(12,6))\n",
    "\n",
    "    for i, hue in enumerate([maxI, timing]):\n",
    "        sc = ax[i].scatter(experiments.beta, experiments.gamma, c=hue, cmap='viridis')\n",
    "        cb = plt.colorbar(sc)\n",
    "        ax[i].set_title(f\"Relationship between beta, gamma and {['max. I', 'timing of max I'][i]}\")\n",
    "        ax[i].set_xlabel('Beta (contact rate)')\n",
    "        ax[i].set_ylabel('Gamma (recovery rate)')\n",
    "        cb.set_label(['max. infections', 'time step of max. I.'][i])\n",
    "\n",
    "        # Add labels with the hue value\n",
    "        if labels:\n",
    "            for j, (beta, gamma) in enumerate(zip(experiments.beta, experiments.gamma)):\n",
    "                ax[i].text(beta, gamma, f\"{hue[j]:.0f}\", fontsize=8)\n",
    "\n",
    "        # To the second plot, add a line with beta = gamma\n",
    "        if i == 1 and beta_is_gamma_line:\n",
    "            ax[i].plot(np.linspace(0.05,0.15), np.linspace(0.05,0.15), color='red')\n",
    "    plt.show()\n",
    "\n",
    "plot_scatter()"
   ]
  },
  {
   "cell_type": "markdown",
   "metadata": {},
   "source": [
    "Notable on the left plot is that a higher beta value and a lower gamma value are associated with a higher maximum value of I. This is intuitive, since a higher beta values means more contact between individuals, and a lower gamma value means that individuals are less likely to recover.\n",
    "\n",
    "On the right plot, there is more interesting behaviour. With a low contact rate and high recovery rate, the highest number of infected people is at the first time step. Only the initially infected person is infected, and infects no other persons. After that, as the contact rate increases and recovery rate decreases, the time of the maximum value of I shifts from the last time step (meaning likely no peak is reached during the simulation) to shorter and shorter time steps.\n",
    "\n",
    "This becomes even clearer if we add labels with the numbers, and a red line with beta = gamma to the second plot. If the recovery rate is higher than the infection rate, the disease will likely die out.\n",
    "\n"
   ]
  },
  {
   "cell_type": "code",
   "execution_count": null,
   "metadata": {
    "ExecuteTime": {
     "end_time": "2023-04-07T12:24:54.198012Z",
     "start_time": "2023-04-07T12:24:53.803648Z"
    },
    "collapsed": false,
    "jupyter": {
     "outputs_hidden": false
    }
   },
   "outputs": [],
   "source": [
    "plot_scatter(labels=True, beta_is_gamma_line=True)"
   ]
  },
  {
   "cell_type": "markdown",
   "metadata": {},
   "source": [
    "Finally, if we want to see how the timing and the maximum value of I are related to each other, we can use a scatter plot with the timing on the x-axis and the maximum value of I on the y-axis."
   ]
  },
  {
   "cell_type": "code",
   "execution_count": null,
   "metadata": {
    "ExecuteTime": {
     "end_time": "2023-04-07T12:31:26.136366Z",
     "start_time": "2023-04-07T12:31:26.026549Z"
    }
   },
   "outputs": [],
   "source": [
    "fig, ax = plt.subplots(figsize=(6,6))\n",
    "\n",
    "sc = ax.scatter(timing, maxI)\n",
    "ax.set_title('Timing and severity of outbreak')\n",
    "ax.set_xlabel('Point in time')\n",
    "ax.set_ylabel('Max. I (infected)')\n",
    "plt.show()"
   ]
  },
  {
   "cell_type": "markdown",
   "metadata": {},
   "source": [
    "Notably, there is a negative correlation between the timing of the outbreak and the number infected. A slow outbreak with a late peak has a low number of infected people, while a fast outbreak with an early peak has a high number of infected people. This is intuitive, since a slow outbreak has more time to spread, and a fast outbreak has less time to spread."
   ]
  },
  {
   "cell_type": "markdown",
   "metadata": {},
   "source": [
    "### Conclusion\n",
    "This shows an example of how to use the workbench to explore a simple model, and how to use the workbench to visualize and interpret the results.\n",
    "\n",
    "Assignment 2 and 3 will introduce two other models, which you will be able to explore yourself using the workbench.\n",
    "\n",
    "The [EMAworkbench documentation](https://emaworkbench.readthedocs.io/en/latest/) and [code itself](https://github.com/quaquel/EMAworkbench) provide a lot of information on how to use the workbench, as well as a lot of [examples](https://github.com/quaquel/EMAworkbench/tree/master/ema_workbench/examples)."
   ]
  }
 ],
 "metadata": {
  "kernelspec": {
   "display_name": "Python 3 (ipykernel)",
   "language": "python",
   "name": "python3"
  },
  "language_info": {
   "codemirror_mode": {
    "name": "ipython",
    "version": 3
   },
   "file_extension": ".py",
   "mimetype": "text/x-python",
   "name": "python",
   "nbconvert_exporter": "python",
   "pygments_lexer": "ipython3",
   "version": "3.11.3"
  }
 },
 "nbformat": 4,
 "nbformat_minor": 4
}
